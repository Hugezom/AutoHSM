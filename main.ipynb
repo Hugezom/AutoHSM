{
 "cells": [
  {
   "cell_type": "code",
   "execution_count": 1,
   "metadata": {
    "ExecuteTime": {
     "end_time": "2021-10-28T07:29:17.350515Z",
     "start_time": "2021-10-28T07:29:17.000723Z"
    }
   },
   "outputs": [
    {
     "name": "stdout",
     "output_type": "stream",
     "text": [
      "Device D3H0217A17007962 detected!\n"
     ]
    }
   ],
   "source": [
    "from autohsm.pve import *"
   ]
  },
  {
   "cell_type": "code",
   "execution_count": 3,
   "metadata": {
    "ExecuteTime": {
     "end_time": "2021-10-28T07:29:29.912087Z",
     "start_time": "2021-10-28T07:29:29.910484Z"
    }
   },
   "outputs": [],
   "source": [
    "n = 3"
   ]
  },
  {
   "cell_type": "code",
   "execution_count": null,
   "metadata": {
    "ExecuteTime": {
     "start_time": "2021-10-28T07:29:31.271Z"
    }
   },
   "outputs": [
    {
     "name": "stdout",
     "output_type": "stream",
     "text": [
      "开始坐牢!\n",
      "当前重复次数与位置: 1-1\n",
      "当前重复次数与位置: 2-1\n",
      "当前重复次数与位置: 2-2\n"
     ]
    }
   ],
   "source": [
    "    print(\"开始坐牢!\")\n",
    "    i = 0\n",
    "    while True:\n",
    "        i += 1\n",
    "        tap(*pos[\"choose\"])\n",
    "        time.sleep(1)\n",
    "        tap(*pos[\"team\"])\n",
    "        time.sleep(1.5)\n",
    "        tap(*pos[\"choose\"])\n",
    "        time.sleep(0.5)\n",
    "        tap(*pos[\"global_confirm\"])\n",
    "\n",
    "        time.sleep(5.5)\n",
    "        tap(*pos[\"choose\"])\n",
    "        print(f\"当前重复次数与位置: {i}-1\")\n",
    "\n",
    "        time.sleep(18.5)\n",
    "        tap(*pos[\"next_turn\"])\n",
    "        time.sleep(11.5)\n",
    "        battle()\n",
    "        time.sleep(22)\n",
    "        tap(*pos[\"choose\"])\n",
    "        wait()\n",
    "        tap(*pos[\"choose\"])\n",
    "        time.sleep(10)\n",
    "        get_bonus()\n",
    "        time.sleep(1.7)\n",
    "\n",
    "        for _ in range(n - 1):\n",
    "            nd = next_node()\n",
    "            if nd is True:\n",
    "                wait()\n",
    "                tap(*pos[\"choose\"])\n",
    "                print(f\"当前重复次数与位置: {i}-{_+1}\")\n",
    "                time.sleep(20)\n",
    "                tap(*pos[\"next_turn\"])\n",
    "                time.sleep(11.5)\n",
    "                tap(*pos[\"skill_1\"])\n",
    "                wait()\n",
    "                tap(*pos[\"skill_1\"])\n",
    "                wait()\n",
    "                x, y = pos[\"skill_0\"]\n",
    "                tap(x, y, x, y - 350, duration=200)\n",
    "                wait()\n",
    "                tap(*pos[\"next_turn\"])\n",
    "                time.sleep(22)\n",
    "                tap(*pos[\"choose\"])\n",
    "                wait()\n",
    "                tap(*pos[\"choose\"])\n",
    "                time.sleep(10)\n",
    "                get_bonus()\n",
    "                time.sleep(1.7)\n",
    "            \n",
    "            elif isinstance(nd, TypeError):\n",
    "                tap(*pos[\"global_confirm\"])\n",
    "                wait()\n",
    "                tap(*pos[\"global_confirm\"])\n",
    "                break\n",
    "\n",
    "        while not next_node():\n",
    "            time.sleep(1)\n",
    "\n",
    "        quit()\n",
    "        time.sleep(5)"
   ]
  }
 ],
 "metadata": {
  "kernelspec": {
   "display_name": "Python 3",
   "language": "python",
   "name": "python3"
  },
  "language_info": {
   "codemirror_mode": {
    "name": "ipython",
    "version": 3
   },
   "file_extension": ".py",
   "mimetype": "text/x-python",
   "name": "python",
   "nbconvert_exporter": "python",
   "pygments_lexer": "ipython3",
   "version": "3.8.8"
  }
 },
 "nbformat": 4,
 "nbformat_minor": 2
}
