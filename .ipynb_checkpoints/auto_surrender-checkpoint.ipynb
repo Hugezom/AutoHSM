{
 "cells": [
  {
   "cell_type": "code",
   "execution_count": 1,
   "id": "cf22ccdc",
   "metadata": {
    "ExecuteTime": {
     "end_time": "2021-10-26T08:21:42.600629Z",
     "start_time": "2021-10-26T08:21:42.326011Z"
    }
   },
   "outputs": [],
   "source": [
    "import os\n",
    "import cv2\n",
    "import time\n",
    "import random\n",
    "import numpy as np\n",
    "import subprocess\n",
    "\n",
    "import matplotlib.pyplot as plt"
   ]
  },
  {
   "cell_type": "code",
   "execution_count": 10,
   "id": "61d2e862",
   "metadata": {
    "ExecuteTime": {
     "end_time": "2021-10-26T08:26:26.109674Z",
     "start_time": "2021-10-26T08:26:26.092171Z"
    }
   },
   "outputs": [],
   "source": [
    "def tap(x, y, tx=None, ty=None, error=15, duration: int = 0):\n",
    "    x += random.uniform(-error, error)\n",
    "    y += random.uniform(-error, error)\n",
    "    duration += int(random.uniform(50, 100))\n",
    "    if tx is None:\n",
    "        tx = x\n",
    "    tx += random.uniform(-error, error)\n",
    "    if ty is None:\n",
    "        ty = y\n",
    "    ty += random.uniform(-error, error)\n",
    "    os.system(f\"adb shell input swipe {x} {y} {tx} {ty} {duration}\")\n",
    "\n",
    "\n",
    "def wait(t=0.2):\n",
    "    error = random.uniform(0, 0.3)\n",
    "    time.sleep(t + error)\n",
    "\n",
    "\n",
    "def catch_screen():\n",
    "    pipe = subprocess.Popen(\"adb shell screencap -p\",\n",
    "                            stdin=subprocess.PIPE,\n",
    "                            stdout=subprocess.PIPE,\n",
    "                            shell=True)\n",
    "    image_bytes = pipe.stdout.read().replace(b'\\r\\n', b'\\n')\n",
    "    image = cv2.imdecode(np.frombuffer(image_bytes, np.uint8),\n",
    "                         cv2.IMREAD_COLOR)\n",
    "    return image\n",
    "\n",
    "\n",
    "def is_victory(threshold=0.9):\n",
    "    img = catch_screen()\n",
    "    tpl = cv2.imread(\"victory.png\")\n",
    "\n",
    "    result = cv2.matchTemplate(img, tpl, cv2.TM_CCOEFF_NORMED)\n",
    "    return result.max() >= threshold\n",
    "\n",
    "\n",
    "def surrender(t, threshold=0.9):\n",
    "    tap(*pos[\"setting\"])\n",
    "    time.sleep(0.5)\n",
    "    screen = catch_screen()\n",
    "    result = cv2.matchTemplate(screen, tpl_surrender, cv2.TM_CCOEFF_NORMED)\n",
    "    if result.max() >= threshold:\n",
    "        time.sleep(t)\n",
    "        tap(*pos[\"surrender\"])\n",
    "    else:\n",
    "        tap(*pos[\"corner\"])\n",
    "\n",
    "def check_start(img, threshold=0.9):\n",
    "    result = cv2.matchTemplate(img, tpl_error, cv2.TM_CCOEFF_NORMED)\n",
    "    if result.max()>=threshold:\n",
    "        tap(*pos[\"error_confirm\"])\n",
    "    \n",
    "    result = cv2.matchTemplate(img, tpl_start, cv2.TM_CCOEFF_NORMED)\n",
    "    should_start = result.max() >= threshold\n",
    "    if should_start:\n",
    "        pos_start = (np.mean(np.where(result > 0.90), axis=1) +\n",
    "                     np.array(tpl_start.shape[:2]) / 2)[::-1]\n",
    "        tap(*pos_start)\n",
    "\n",
    "        wait(0.3)\n",
    "        tap(*pos[\"team\"])\n",
    "\n",
    "        wait()\n",
    "        tap(*pos_start)\n",
    "    return should_start\n",
    "\n",
    "\n",
    "def check_rewards(img, threshold=0.9):\n",
    "    result = cv2.matchTemplate(img, tpl_reward, cv2.TM_CCOEFF_NORMED)\n",
    "    if result.max() > threshold:\n",
    "        for x, y in pos[\"rewards\"]:\n",
    "            tap(x, y)\n",
    "            tap(*pos[\"get_reward\"])\n",
    "        wait(3)\n",
    "        tap(*pos[\"team\"])\n",
    "\n",
    "\n",
    "def is_matching(img, threshold=0.9):\n",
    "    return cv2.matchTemplate(img, tpl_matching,\n",
    "                             cv2.TM_CCOEFF_NORMED).max() >= threshold\n",
    "\n",
    "\n",
    "def get_combat_result(img, threshold=0.9):\n",
    "    # return -1 if lose, 1 if win, otherwise return 0\n",
    "    win_conf = cv2.matchTemplate(img, tpl_win, cv2.TM_CCOEFF_NORMED).max()\n",
    "    lose_conf = cv2.matchTemplate(img, tpl_lose, cv2.TM_CCOEFF_NORMED).max()\n",
    "    return np.argmax([lose_conf, threshold, win_conf]) - 1"
   ]
  },
  {
   "cell_type": "code",
   "execution_count": 23,
   "id": "4d9695c5",
   "metadata": {
    "ExecuteTime": {
     "end_time": "2021-10-26T10:09:23.286814Z",
     "start_time": "2021-10-26T10:09:23.266750Z"
    }
   },
   "outputs": [],
   "source": [
    "tpl_win = cv2.imread(\"templates/win.png\")\n",
    "tpl_lose = cv2.imread(\"templates/lose.png\")\n",
    "tpl_start = cv2.imread(\"templates/start.png\")\n",
    "tpl_error = cv2.imread(\"templates/error.png\")\n",
    "tpl_reward = cv2.imread(\"templates/reward.png\")\n",
    "tpl_surrender = cv2.imread(\"templates/surrender.png\")\n",
    "tpl_matching = cv2.imread(\"templates/matching.png\")\n",
    "\n",
    "pos = {\n",
    "    \"team\": (1200, 270),\n",
    "    \"choose\": (1900, 950),\n",
    "    \"setting\": (2200, 60),\n",
    "    \"surrender\": (1240, 220),\n",
    "    \"rewards\": [(1200, 200), (1000, 300), (1600, 300), (1000, 800), (1600, 800)],\n",
    "    \"get_reward\": (1200, 600),\n",
    "    \"corner\": (2200, 1000),\n",
    "    \"confirm_error\": (1200, 730),\n",
    "}"
   ]
  },
  {
   "cell_type": "code",
   "execution_count": 6,
   "id": "4a98720a",
   "metadata": {
    "ExecuteTime": {
     "end_time": "2021-10-26T08:22:01.241284Z",
     "start_time": "2021-10-26T08:22:01.238929Z"
    }
   },
   "outputs": [],
   "source": [
    "n_win = 0\n",
    "n_lose = 0"
   ]
  },
  {
   "cell_type": "code",
   "execution_count": 20,
   "id": "bab65c00",
   "metadata": {
    "ExecuteTime": {
     "end_time": "2021-10-26T10:05:48.846172Z",
     "start_time": "2021-10-26T09:46:25.198706Z"
    },
    "scrolled": true
   },
   "outputs": [
    {
     "name": "stdout",
     "output_type": "stream",
     "text": [
      "67 matched.\n",
      "Total: 67, Win Rate: 0.5074626865671642, current wait: 1.8\n",
      "68 matched.\n",
      "Total: 68, Win Rate: 0.5, current wait: 1.8\n",
      "69 matched.\n",
      "Total: 69, Win Rate: 0.4927536231884058, current wait: 1.8\n",
      "70 matched.\n",
      "Total: 70, Win Rate: 0.5, current wait: 1.8\n",
      "71 matched.\n",
      "Total: 70, Win Rate: 0.5, current wait: 1.8\n",
      "71 matched.\n",
      "Total: 71, Win Rate: 0.5070422535211268, current wait: 1.8\n",
      "72 matched.\n",
      "Total: 72, Win Rate: 0.5138888888888888, current wait: 1.8\n",
      "73 matched.\n",
      "Total: 73, Win Rate: 0.5068493150684932, current wait: 1.8\n",
      "74 matched.\n",
      "Total: 74, Win Rate: 0.5135135135135135, current wait: 1.8\n",
      "75 matched.\n",
      "Total: 74, Win Rate: 0.5135135135135135, current wait: 1.8\n",
      "75 matched.\n",
      "Total: 75, Win Rate: 0.5066666666666667, current wait: 1.8\n",
      "76 matched.\n",
      "Total: 76, Win Rate: 0.5, current wait: 1.8\n",
      "77 matched.\n",
      "Total: 77, Win Rate: 0.5064935064935064, current wait: 1.8\n",
      "78 matched.\n",
      "Total: 78, Win Rate: 0.5, current wait: 1.8\n",
      "79 matched.\n",
      "Total: 79, Win Rate: 0.5063291139240507, current wait: 1.8\n",
      "80 matched.\n",
      "Total: 80, Win Rate: 0.5125, current wait: 1.8\n",
      "81 matched.\n",
      "Total: 81, Win Rate: 0.5185185185185185, current wait: 1.8\n",
      "82 matched.\n",
      "Total: 82, Win Rate: 0.524390243902439, current wait: 1.8\n",
      "83 matched.\n",
      "Total: 83, Win Rate: 0.5301204819277109, current wait: 1.8\n",
      "84 matched.\n",
      "Total: 83, Win Rate: 0.5301204819277109, current wait: 1.8\n",
      "84 matched.\n",
      "Total: 84, Win Rate: 0.5357142857142857, current wait: 1.8\n",
      "85 matched.\n",
      "Total: 85, Win Rate: 0.5294117647058824, current wait: 1.8\n",
      "86 matched.\n",
      "Total: 86, Win Rate: 0.5348837209302325, current wait: 1.8\n",
      "87 matched.\n",
      "Total: 87, Win Rate: 0.5402298850574713, current wait: 1.8\n",
      "88 matched.\n",
      "Total: 88, Win Rate: 0.5340909090909091, current wait: 1.8\n",
      "89 matched.\n",
      "Total: 89, Win Rate: 0.5280898876404494, current wait: 1.8\n",
      "90 matched.\n",
      "Total: 89, Win Rate: 0.5280898876404494, current wait: 1.8\n",
      "90 matched.\n",
      "Total: 89, Win Rate: 0.5280898876404494, current wait: 1.8\n",
      "90 matched.\n",
      "Total: 89, Win Rate: 0.5280898876404494, current wait: 1.8\n"
     ]
    },
    {
     "ename": "KeyboardInterrupt",
     "evalue": "",
     "output_type": "error",
     "traceback": [
      "\u001b[0;31m---------------------------------------------------------\u001b[0m",
      "\u001b[0;31mKeyboardInterrupt\u001b[0m       Traceback (most recent call last)",
      "\u001b[0;32m<ipython-input-20-65689d79b94b>\u001b[0m in \u001b[0;36m<module>\u001b[0;34m\u001b[0m\n\u001b[1;32m     30\u001b[0m     \u001b[0mwait\u001b[0m\u001b[0;34m(\u001b[0m\u001b[0;34m)\u001b[0m\u001b[0;34m\u001b[0m\u001b[0;34m\u001b[0m\u001b[0m\n\u001b[1;32m     31\u001b[0m     \u001b[0mtap\u001b[0m\u001b[0;34m(\u001b[0m\u001b[0;34m*\u001b[0m\u001b[0mpos\u001b[0m\u001b[0;34m[\u001b[0m\u001b[0;34m\"corner\"\u001b[0m\u001b[0;34m]\u001b[0m\u001b[0;34m)\u001b[0m\u001b[0;34m\u001b[0m\u001b[0;34m\u001b[0m\u001b[0m\n\u001b[0;32m---> 32\u001b[0;31m     \u001b[0mwait\u001b[0m\u001b[0;34m(\u001b[0m\u001b[0;36m3.1\u001b[0m\u001b[0;34m)\u001b[0m\u001b[0;34m\u001b[0m\u001b[0;34m\u001b[0m\u001b[0m\n\u001b[0m\u001b[1;32m     33\u001b[0m     \u001b[0;31m#check_rewards(screen)\u001b[0m\u001b[0;34m\u001b[0m\u001b[0;34m\u001b[0m\u001b[0;34m\u001b[0m\u001b[0m\n",
      "\u001b[0;32m<ipython-input-10-8f973f90dc08>\u001b[0m in \u001b[0;36mwait\u001b[0;34m(t)\u001b[0m\n\u001b[1;32m     14\u001b[0m \u001b[0;32mdef\u001b[0m \u001b[0mwait\u001b[0m\u001b[0;34m(\u001b[0m\u001b[0mt\u001b[0m\u001b[0;34m=\u001b[0m\u001b[0;36m0.2\u001b[0m\u001b[0;34m)\u001b[0m\u001b[0;34m:\u001b[0m\u001b[0;34m\u001b[0m\u001b[0;34m\u001b[0m\u001b[0m\n\u001b[1;32m     15\u001b[0m     \u001b[0merror\u001b[0m \u001b[0;34m=\u001b[0m \u001b[0mrandom\u001b[0m\u001b[0;34m.\u001b[0m\u001b[0muniform\u001b[0m\u001b[0;34m(\u001b[0m\u001b[0;36m0\u001b[0m\u001b[0;34m,\u001b[0m \u001b[0;36m0.3\u001b[0m\u001b[0;34m)\u001b[0m\u001b[0;34m\u001b[0m\u001b[0;34m\u001b[0m\u001b[0m\n\u001b[0;32m---> 16\u001b[0;31m     \u001b[0mtime\u001b[0m\u001b[0;34m.\u001b[0m\u001b[0msleep\u001b[0m\u001b[0;34m(\u001b[0m\u001b[0mt\u001b[0m \u001b[0;34m+\u001b[0m \u001b[0merror\u001b[0m\u001b[0;34m)\u001b[0m\u001b[0;34m\u001b[0m\u001b[0;34m\u001b[0m\u001b[0m\n\u001b[0m\u001b[1;32m     17\u001b[0m \u001b[0;34m\u001b[0m\u001b[0m\n\u001b[1;32m     18\u001b[0m \u001b[0;34m\u001b[0m\u001b[0m\n",
      "\u001b[0;31mKeyboardInterrupt\u001b[0m: "
     ]
    }
   ],
   "source": [
    "wait_seconds = 1.8\n",
    "should_run = True\n",
    "while should_run:\n",
    "    screen = catch_screen()\n",
    "    if check_start(screen):\n",
    "        time.sleep(1)\n",
    "        screen = catch_screen()\n",
    "        \n",
    "    while is_matching(screen):\n",
    "        time.sleep(1)\n",
    "        screen = catch_screen()\n",
    "    print(n_win+n_lose+1, \"matched.\")\n",
    "    wait(3.3)\n",
    "    surrender(wait_seconds)\n",
    "    wait(1.5)\n",
    "    screen = catch_screen()\n",
    "    combat_result = get_combat_result(screen)\n",
    "    if combat_result == -1:\n",
    "        n_lose += 1\n",
    "    elif combat_result == 1:\n",
    "        n_win += 1\n",
    "    \n",
    "    total = n_win+n_lose\n",
    "    win_rate = n_win / total if total != 0 else 0\n",
    "    print(f\"Total: {total}, Win Rate: {win_rate}, current wait: {wait_seconds}\")\n",
    "        \n",
    "    tap(*pos[\"corner\"])\n",
    "    wait()\n",
    "    tap(*pos[\"corner\"])\n",
    "    wait()\n",
    "    tap(*pos[\"corner\"])\n",
    "    wait(3.1)\n",
    "    #check_rewards(screen)"
   ]
  },
  {
   "cell_type": "code",
   "execution_count": 14,
   "id": "1c10ad79",
   "metadata": {
    "ExecuteTime": {
     "end_time": "2021-10-26T08:54:11.090420Z",
     "start_time": "2021-10-26T08:53:59.787850Z"
    }
   },
   "outputs": [],
   "source": [
    "check_rewards(catch_screen())"
   ]
  },
  {
   "cell_type": "code",
   "execution_count": null,
   "id": "9d9ccf24",
   "metadata": {},
   "outputs": [],
   "source": [
    "def update_wait(wait, n, win_rate):\n",
    "    delta = win_rate - 0.5\n",
    "    "
   ]
  }
 ],
 "metadata": {
  "kernelspec": {
   "display_name": "Python 3",
   "language": "python",
   "name": "python3"
  },
  "language_info": {
   "codemirror_mode": {
    "name": "ipython",
    "version": 3
   },
   "file_extension": ".py",
   "mimetype": "text/x-python",
   "name": "python",
   "nbconvert_exporter": "python",
   "pygments_lexer": "ipython3",
   "version": "3.8.8"
  }
 },
 "nbformat": 4,
 "nbformat_minor": 5
}
