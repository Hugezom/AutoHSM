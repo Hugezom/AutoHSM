{
 "cells": [
  {
   "cell_type": "code",
   "execution_count": 1,
   "metadata": {
    "ExecuteTime": {
     "end_time": "2021-10-26T08:21:42.600629Z",
     "start_time": "2021-10-26T08:21:42.326011Z"
    }
   },
   "outputs": [],
   "source": [
    "import os\n",
    "import cv2\n",
    "import time\n",
    "import random\n",
    "import numpy as np\n",
    "import subprocess\n",
    "\n",
    "import matplotlib.pyplot as plt"
   ]
  },
  {
   "cell_type": "code",
   "execution_count": 15,
   "metadata": {},
   "outputs": [],
   "source": []
  },
  {
   "cell_type": "code",
   "execution_count": 18,
   "metadata": {},
   "outputs": [],
   "source": []
  },
  {
   "cell_type": "code",
   "execution_count": 19,
   "metadata": {},
   "outputs": [
    {
     "data": {
      "text/plain": [
       "'D3H0217A17007962'"
      ]
     },
     "execution_count": 19,
     "metadata": {},
     "output_type": "execute_result"
    }
   ],
   "source": [
    "device"
   ]
  },
  {
   "cell_type": "code",
   "execution_count": 16,
   "metadata": {},
   "outputs": [
    {
     "data": {
      "text/plain": [
       "'D3H0217A17007962\\tdevice'"
      ]
     },
     "execution_count": 16,
     "metadata": {},
     "output_type": "execute_result"
    }
   ],
   "source": [
    "devices"
   ]
  },
  {
   "cell_type": "code",
   "execution_count": 29,
   "metadata": {},
   "outputs": [],
   "source": [
    "def detect_device():\n",
    "    devices = os.popen(\"adb devices\").read().split('\\n')[1]\n",
    "    if devices == \"\":\n",
    "        raise IOError(\"No device detected!\")\n",
    "    else:\n",
    "        device = devices.split('\\t')[0]\n",
    "        print(f\"Device {device} detected.\")"
   ]
  },
  {
   "cell_type": "code",
   "execution_count": 30,
   "metadata": {},
   "outputs": [
    {
     "name": "stdout",
     "output_type": "stream",
     "text": [
      "Detected device D3H0217A17007962\n"
     ]
    }
   ],
   "source": [
    "detect_device()"
   ]
  },
  {
   "cell_type": "code",
   "execution_count": 24,
   "metadata": {
    "ExecuteTime": {
     "end_time": "2021-10-26T10:12:05.572682Z",
     "start_time": "2021-10-26T10:12:05.554727Z"
    }
   },
   "outputs": [],
   "source": [
    "def tap(x, y, tx=None, ty=None, error=15, duration: int = 0):\n",
    "    x += random.uniform(-error, error)\n",
    "    y += random.uniform(-error, error)\n",
    "    duration += int(random.uniform(50, 100))\n",
    "    if tx is None:\n",
    "        tx = x\n",
    "    tx += random.uniform(-error, error)\n",
    "    if ty is None:\n",
    "        ty = y\n",
    "    ty += random.uniform(-error, error)\n",
    "    os.system(f\"adb shell input swipe {x} {y} {tx} {ty} {duration}\")\n",
    "\n",
    "\n",
    "def wait(t=0.2):\n",
    "    error = random.uniform(0, 0.2)\n",
    "    time.sleep(t + error)\n",
    "\n",
    "\n",
    "def catch_screen():\n",
    "    pipe = subprocess.Popen(\"adb shell screencap -p\",\n",
    "                            stdin=subprocess.PIPE,\n",
    "                            stdout=subprocess.PIPE,\n",
    "                            shell=True)\n",
    "    image_bytes = pipe.stdout.read().replace(b'\\r\\n', b'\\n')\n",
    "    image = cv2.imdecode(np.frombuffer(image_bytes, np.uint8),\n",
    "                         cv2.IMREAD_COLOR)\n",
    "    return image\n",
    "\n",
    "\n",
    "def is_victory(threshold=0.9):\n",
    "    img = catch_screen()\n",
    "    tpl = cv2.imread(\"victory.png\")\n",
    "\n",
    "    result = cv2.matchTemplate(img, tpl, cv2.TM_CCOEFF_NORMED)\n",
    "    return result.max() >= threshold\n",
    "\n",
    "\n",
    "def surrender(t, threshold=0.9):\n",
    "    tap(*pos[\"setting\"])\n",
    "    time.sleep(0.5)\n",
    "    screen = catch_screen()\n",
    "    result = cv2.matchTemplate(screen, tpl_surrender, cv2.TM_CCOEFF_NORMED)\n",
    "    if result.max() >= threshold:\n",
    "        time.sleep(t)\n",
    "        tap(*pos[\"surrender\"])\n",
    "    else:\n",
    "        tap(*pos[\"corner\"])\n",
    "\n",
    "def check_start(img, threshold=0.9):\n",
    "    result = cv2.matchTemplate(img, tpl_error, cv2.TM_CCOEFF_NORMED)\n",
    "    if result.max()>=threshold:\n",
    "        tap(*pos[\"error_confirm\"])\n",
    "    \n",
    "    result = cv2.matchTemplate(img, tpl_start, cv2.TM_CCOEFF_NORMED)\n",
    "    should_start = result.max() >= threshold\n",
    "    if should_start:\n",
    "        pos_start = (np.mean(np.where(result > 0.90), axis=1) +\n",
    "                     np.array(tpl_start.shape[:2]) / 2)[::-1]\n",
    "        tap(*pos_start)\n",
    "\n",
    "        wait(0.3)\n",
    "        tap(*pos[\"team\"])\n",
    "\n",
    "        wait()\n",
    "        tap(*pos_start)\n",
    "    return should_start\n",
    "\n",
    "\n",
    "def check_rewards(img, threshold=0.9):\n",
    "    result = cv2.matchTemplate(img, tpl_reward, cv2.TM_CCOEFF_NORMED)\n",
    "    if result.max() > threshold:\n",
    "        for x, y in pos[\"rewards\"]:\n",
    "            tap(x, y)\n",
    "            tap(*pos[\"get_reward\"])\n",
    "        wait(3)\n",
    "        tap(*pos[\"team\"])\n",
    "\n",
    "\n",
    "def is_matching(img, threshold=0.9):\n",
    "    return cv2.matchTemplate(img, tpl_matching,\n",
    "                             cv2.TM_CCOEFF_NORMED).max() >= threshold\n",
    "\n",
    "\n",
    "def get_combat_result(img, threshold=0.9):\n",
    "    # return -1 if lose, 1 if win, otherwise return 0\n",
    "    win_conf = cv2.matchTemplate(img, tpl_win, cv2.TM_CCOEFF_NORMED).max()\n",
    "    lose_conf = cv2.matchTemplate(img, tpl_lose, cv2.TM_CCOEFF_NORMED).max()\n",
    "    return np.argmax([lose_conf, threshold, win_conf]) - 1"
   ]
  },
  {
   "cell_type": "code",
   "execution_count": 23,
   "metadata": {
    "ExecuteTime": {
     "end_time": "2021-10-26T10:09:23.286814Z",
     "start_time": "2021-10-26T10:09:23.266750Z"
    }
   },
   "outputs": [],
   "source": [
    "tpl_win = cv2.imread(\"templates/win.png\")\n",
    "tpl_lose = cv2.imread(\"templates/lose.png\")\n",
    "tpl_start = cv2.imread(\"templates/start.png\")\n",
    "tpl_error = cv2.imread(\"templates/error.png\")\n",
    "tpl_reward = cv2.imread(\"templates/reward.png\")\n",
    "tpl_surrender = cv2.imread(\"templates/surrender.png\")\n",
    "tpl_matching = cv2.imread(\"templates/matching.png\")\n",
    "\n",
    "pos = {\n",
    "    \"team\": (1200, 270),\n",
    "    \"choose\": (1900, 950),\n",
    "    \"setting\": (2200, 60),\n",
    "    \"surrender\": (1240, 220),\n",
    "    \"rewards\": [(1200, 200), (1000, 300), (1600, 300), (1000, 800), (1600, 800)],\n",
    "    \"get_reward\": (1200, 600),\n",
    "    \"corner\": (2200, 1000),\n",
    "    \"confirm_error\": (1200, 730),\n",
    "}"
   ]
  },
  {
   "cell_type": "code",
   "execution_count": 6,
   "metadata": {
    "ExecuteTime": {
     "end_time": "2021-10-26T08:22:01.241284Z",
     "start_time": "2021-10-26T08:22:01.238929Z"
    }
   },
   "outputs": [],
   "source": [
    "n_win = 0\n",
    "n_lose = 0"
   ]
  },
  {
   "cell_type": "code",
   "execution_count": null,
   "metadata": {
    "ExecuteTime": {
     "start_time": "2021-10-26T10:12:08.027Z"
    },
    "scrolled": true
   },
   "outputs": [
    {
     "name": "stdout",
     "output_type": "stream",
     "text": [
      "90 matched.\n",
      "Total: 90, Win Rate: 0.5222222222222223, current wait: 1.8\n",
      "91 matched.\n",
      "Total: 91, Win Rate: 0.5164835164835165, current wait: 1.8\n",
      "92 matched.\n",
      "Total: 92, Win Rate: 0.5108695652173914, current wait: 1.8\n",
      "93 matched.\n",
      "Total: 93, Win Rate: 0.5053763440860215, current wait: 1.8\n",
      "94 matched.\n",
      "Total: 93, Win Rate: 0.5053763440860215, current wait: 1.8\n",
      "94 matched.\n",
      "Total: 93, Win Rate: 0.5053763440860215, current wait: 1.8\n",
      "94 matched.\n",
      "Total: 94, Win Rate: 0.5, current wait: 1.8\n",
      "95 matched.\n",
      "Total: 94, Win Rate: 0.5, current wait: 1.8\n",
      "95 matched.\n",
      "Total: 95, Win Rate: 0.5052631578947369, current wait: 1.8\n",
      "96 matched.\n",
      "Total: 96, Win Rate: 0.5104166666666666, current wait: 1.8\n",
      "97 matched.\n",
      "Total: 97, Win Rate: 0.5154639175257731, current wait: 1.8\n",
      "98 matched.\n",
      "Total: 98, Win Rate: 0.5102040816326531, current wait: 1.8\n",
      "99 matched.\n",
      "Total: 99, Win Rate: 0.5151515151515151, current wait: 1.8\n",
      "100 matched.\n",
      "Total: 100, Win Rate: 0.51, current wait: 1.8\n",
      "101 matched.\n",
      "Total: 101, Win Rate: 0.5148514851485149, current wait: 1.8\n",
      "102 matched.\n",
      "Total: 102, Win Rate: 0.5098039215686274, current wait: 1.8\n",
      "103 matched.\n",
      "Total: 103, Win Rate: 0.5145631067961165, current wait: 1.8\n",
      "104 matched.\n",
      "Total: 104, Win Rate: 0.5192307692307693, current wait: 1.8\n",
      "105 matched.\n",
      "Total: 105, Win Rate: 0.5142857142857142, current wait: 1.8\n",
      "106 matched.\n",
      "Total: 106, Win Rate: 0.5188679245283019, current wait: 1.8\n",
      "107 matched.\n",
      "Total: 107, Win Rate: 0.514018691588785, current wait: 1.8\n",
      "108 matched.\n",
      "Total: 108, Win Rate: 0.5092592592592593, current wait: 1.8\n",
      "109 matched.\n",
      "Total: 109, Win Rate: 0.5045871559633027, current wait: 1.8\n",
      "110 matched.\n",
      "Total: 109, Win Rate: 0.5045871559633027, current wait: 1.8\n",
      "110 matched.\n",
      "Total: 110, Win Rate: 0.5, current wait: 1.8\n",
      "111 matched.\n",
      "Total: 111, Win Rate: 0.5045045045045045, current wait: 1.8\n",
      "112 matched.\n",
      "Total: 112, Win Rate: 0.5, current wait: 1.8\n",
      "113 matched.\n",
      "Total: 113, Win Rate: 0.49557522123893805, current wait: 1.8\n",
      "114 matched.\n",
      "Total: 114, Win Rate: 0.5, current wait: 1.8\n",
      "115 matched.\n",
      "Total: 115, Win Rate: 0.5043478260869565, current wait: 1.8\n",
      "116 matched.\n",
      "Total: 116, Win Rate: 0.5086206896551724, current wait: 1.8\n",
      "117 matched.\n",
      "Total: 117, Win Rate: 0.5042735042735043, current wait: 1.8\n",
      "118 matched.\n",
      "Total: 118, Win Rate: 0.5, current wait: 1.8\n",
      "119 matched.\n",
      "Total: 119, Win Rate: 0.4957983193277311, current wait: 1.8\n",
      "120 matched.\n",
      "Total: 120, Win Rate: 0.49166666666666664, current wait: 1.8\n",
      "121 matched.\n",
      "Total: 121, Win Rate: 0.49586776859504134, current wait: 1.8\n",
      "122 matched.\n",
      "Total: 122, Win Rate: 0.4918032786885246, current wait: 1.8\n",
      "123 matched.\n",
      "Total: 123, Win Rate: 0.4959349593495935, current wait: 1.8\n",
      "124 matched.\n",
      "Total: 124, Win Rate: 0.5, current wait: 1.8\n",
      "125 matched.\n",
      "Total: 125, Win Rate: 0.504, current wait: 1.8\n",
      "126 matched.\n",
      "Total: 126, Win Rate: 0.5, current wait: 1.8\n",
      "127 matched.\n",
      "Total: 127, Win Rate: 0.5039370078740157, current wait: 1.8\n",
      "128 matched.\n",
      "Total: 128, Win Rate: 0.5078125, current wait: 1.8\n",
      "129 matched.\n",
      "Total: 129, Win Rate: 0.5038759689922481, current wait: 1.8\n",
      "130 matched.\n",
      "Total: 130, Win Rate: 0.5076923076923077, current wait: 1.8\n",
      "131 matched.\n",
      "Total: 131, Win Rate: 0.5038167938931297, current wait: 1.8\n",
      "132 matched.\n",
      "Total: 132, Win Rate: 0.5, current wait: 1.8\n",
      "133 matched.\n",
      "Total: 133, Win Rate: 0.5037593984962406, current wait: 1.8\n",
      "134 matched.\n",
      "Total: 134, Win Rate: 0.5074626865671642, current wait: 1.8\n",
      "135 matched.\n",
      "Total: 134, Win Rate: 0.5074626865671642, current wait: 1.8\n",
      "135 matched.\n",
      "Total: 134, Win Rate: 0.5074626865671642, current wait: 1.8\n",
      "135 matched.\n",
      "Total: 135, Win Rate: 0.5111111111111111, current wait: 1.8\n",
      "136 matched.\n",
      "Total: 135, Win Rate: 0.5111111111111111, current wait: 1.8\n",
      "136 matched.\n",
      "Total: 136, Win Rate: 0.5147058823529411, current wait: 1.8\n",
      "137 matched.\n",
      "Total: 137, Win Rate: 0.5182481751824818, current wait: 1.8\n",
      "138 matched.\n",
      "Total: 138, Win Rate: 0.5144927536231884, current wait: 1.8\n",
      "139 matched.\n",
      "Total: 139, Win Rate: 0.5179856115107914, current wait: 1.8\n",
      "140 matched.\n",
      "Total: 139, Win Rate: 0.5179856115107914, current wait: 1.8\n",
      "140 matched.\n",
      "Total: 140, Win Rate: 0.5142857142857142, current wait: 1.8\n",
      "141 matched.\n",
      "Total: 140, Win Rate: 0.5142857142857142, current wait: 1.8\n",
      "141 matched.\n",
      "Total: 141, Win Rate: 0.5177304964539007, current wait: 1.8\n",
      "142 matched.\n",
      "Total: 142, Win Rate: 0.5211267605633803, current wait: 1.8\n",
      "143 matched.\n",
      "Total: 142, Win Rate: 0.5211267605633803, current wait: 1.8\n",
      "143 matched.\n",
      "Total: 143, Win Rate: 0.5174825174825175, current wait: 1.8\n",
      "144 matched.\n",
      "Total: 144, Win Rate: 0.5138888888888888, current wait: 1.8\n",
      "145 matched.\n",
      "Total: 145, Win Rate: 0.5172413793103449, current wait: 1.8\n",
      "146 matched.\n",
      "Total: 146, Win Rate: 0.5136986301369864, current wait: 1.8\n",
      "147 matched.\n",
      "Total: 146, Win Rate: 0.5136986301369864, current wait: 1.8\n",
      "147 matched.\n",
      "Total: 146, Win Rate: 0.5136986301369864, current wait: 1.8\n",
      "147 matched.\n",
      "Total: 147, Win Rate: 0.5170068027210885, current wait: 1.8\n",
      "148 matched.\n",
      "Total: 148, Win Rate: 0.5135135135135135, current wait: 1.8\n",
      "149 matched.\n",
      "Total: 149, Win Rate: 0.5167785234899329, current wait: 1.8\n",
      "150 matched.\n",
      "Total: 150, Win Rate: 0.52, current wait: 1.8\n",
      "151 matched.\n",
      "Total: 150, Win Rate: 0.52, current wait: 1.8\n",
      "151 matched.\n",
      "Total: 151, Win Rate: 0.5165562913907285, current wait: 1.8\n",
      "152 matched.\n",
      "Total: 152, Win Rate: 0.5131578947368421, current wait: 1.8\n",
      "153 matched.\n",
      "Total: 153, Win Rate: 0.5163398692810458, current wait: 1.8\n",
      "154 matched.\n",
      "Total: 153, Win Rate: 0.5163398692810458, current wait: 1.8\n",
      "154 matched.\n",
      "Total: 154, Win Rate: 0.5194805194805194, current wait: 1.8\n",
      "155 matched.\n",
      "Total: 154, Win Rate: 0.5194805194805194, current wait: 1.8\n",
      "155 matched.\n",
      "Total: 155, Win Rate: 0.5225806451612903, current wait: 1.8\n"
     ]
    }
   ],
   "source": [
    "wait_seconds = 1.8\n",
    "should_run = True\n",
    "while should_run:\n",
    "    screen = catch_screen()\n",
    "    if check_start(screen):\n",
    "        time.sleep(1)\n",
    "        screen = catch_screen()\n",
    "        \n",
    "    while is_matching(screen):\n",
    "        time.sleep(1)\n",
    "        screen = catch_screen()\n",
    "    print(n_win+n_lose+1, \"matched.\")\n",
    "    wait(3.3)\n",
    "    surrender(wait_seconds)\n",
    "    wait(1.5)\n",
    "    screen = catch_screen()\n",
    "    combat_result = get_combat_result(screen)\n",
    "    if combat_result == -1:\n",
    "        n_lose += 1\n",
    "    elif combat_result == 1:\n",
    "        n_win += 1\n",
    "    \n",
    "    total = n_win+n_lose\n",
    "    win_rate = n_win / total if total != 0 else 0\n",
    "    print(f\"Total: {total}, Win Rate: {win_rate}, current wait: {wait_seconds}\")\n",
    "        \n",
    "    tap(*pos[\"corner\"])\n",
    "    wait()\n",
    "    tap(*pos[\"corner\"])\n",
    "    wait()\n",
    "    tap(*pos[\"corner\"])\n",
    "    wait(3.1)\n",
    "    #check_rewards(screen)"
   ]
  },
  {
   "cell_type": "code",
   "execution_count": 14,
   "metadata": {
    "ExecuteTime": {
     "end_time": "2021-10-26T08:54:11.090420Z",
     "start_time": "2021-10-26T08:53:59.787850Z"
    }
   },
   "outputs": [],
   "source": [
    "check_rewards(catch_screen())"
   ]
  },
  {
   "cell_type": "code",
   "execution_count": null,
   "metadata": {},
   "outputs": [],
   "source": [
    "def update_wait(wait, n, win_rate):\n",
    "    delta = win_rate - 0.5\n",
    "    "
   ]
  }
 ],
 "metadata": {
  "kernelspec": {
   "display_name": "Python 3",
   "language": "python",
   "name": "python3"
  },
  "language_info": {
   "codemirror_mode": {
    "name": "ipython",
    "version": 3
   },
   "file_extension": ".py",
   "mimetype": "text/x-python",
   "name": "python",
   "nbconvert_exporter": "python",
   "pygments_lexer": "ipython3",
   "version": "3.6.4"
  }
 },
 "nbformat": 4,
 "nbformat_minor": 5
}
