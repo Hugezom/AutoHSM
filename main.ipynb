{
 "cells": [
  {
   "cell_type": "code",
   "execution_count": 1,
   "metadata": {
    "ExecuteTime": {
     "end_time": "2021-10-28T03:57:11.243955Z",
     "start_time": "2021-10-28T03:57:10.660776Z"
    }
   },
   "outputs": [],
   "source": [
    "from autohsm.pve import *"
   ]
  },
  {
   "cell_type": "code",
   "execution_count": null,
   "metadata": {
    "ExecuteTime": {
     "start_time": "2021-10-28T03:57:13.001Z"
    }
   },
   "outputs": [],
   "source": [
    "n = 4\n",
    "while True:\n",
    "    tap(*pos[\"choose\"])\n",
    "    time.sleep(1)\n",
    "    tap(*pos[\"team\"])\n",
    "    time.sleep(0.9)\n",
    "    tap(*pos[\"choose\"])\n",
    "    time.sleep(0.4)\n",
    "    tap(*pos[\"global_confirm\"])\n",
    "\n",
    "    time.sleep(5.5)\n",
    "    tap(*pos[\"choose\"])\n",
    "\n",
    "    time.sleep(18.5)\n",
    "    tap(*pos[\"next_turn\"])\n",
    "    time.sleep(11.5)\n",
    "    battle()\n",
    "    time.sleep(22)\n",
    "    tap(*pos[\"choose\"])\n",
    "    wait()\n",
    "    tap(*pos[\"choose\"])\n",
    "    time.sleep(8)\n",
    "    get_bonus()\n",
    "    time.sleep(1.7)\n",
    "\n",
    "    for _ in range(n - 1):\n",
    "        if next_node():\n",
    "            wait()\n",
    "            tap(*pos[\"choose\"])\n",
    "            time.sleep(20)\n",
    "            tap(*pos[\"next_turn\"])\n",
    "            time.sleep(11.5)\n",
    "            tap(*pos[\"skill_1\"])\n",
    "            wait()\n",
    "            tap(*pos[\"skill_1\"])\n",
    "            wait()\n",
    "            x, y = pos[\"skill_0\"]\n",
    "            tap(x, y, x, y - 350, duration=200)\n",
    "            wait()\n",
    "            tap(*pos[\"next_turn\"])\n",
    "            time.sleep(22)\n",
    "            tap(*pos[\"choose\"])\n",
    "            wait()\n",
    "            tap(*pos[\"choose\"])\n",
    "            time.sleep(10)\n",
    "            get_bonus()\n",
    "            time.sleep(1.7)\n",
    "\n",
    "    while not next_node():\n",
    "        time.sleep(3)\n",
    "\n",
    "    quit()\n",
    "    time.sleep(3)"
   ]
  }
 ],
 "metadata": {
  "kernelspec": {
   "display_name": "Python 3",
   "language": "python",
   "name": "python3"
  },
  "language_info": {
   "codemirror_mode": {
    "name": "ipython",
    "version": 3
   },
   "file_extension": ".py",
   "mimetype": "text/x-python",
   "name": "python",
   "nbconvert_exporter": "python",
   "pygments_lexer": "ipython3",
   "version": "3.8.8"
  }
 },
 "nbformat": 4,
 "nbformat_minor": 2
}
